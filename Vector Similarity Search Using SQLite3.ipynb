{
 "cells": [
  {
   "cell_type": "code",
   "execution_count": 14,
   "id": "a834aed1",
   "metadata": {},
   "outputs": [],
   "source": [
    "#importing the SQlite3 librbary\n",
    "import sqlite3 \n",
    "import numpy as np"
   ]
  },
  {
   "cell_type": "code",
   "execution_count": 15,
   "id": "6b29a423",
   "metadata": {},
   "outputs": [],
   "source": [
    "#Creating connection to SQLite DB\n",
    "conn = sqlite3.connect('vector-db.db') #vector-db is the name of the database"
   ]
  },
  {
   "cell_type": "code",
   "execution_count": 16,
   "id": "23593445",
   "metadata": {},
   "outputs": [
    {
     "data": {
      "text/plain": [
       "<sqlite3.Connection at 0x147240028a0>"
      ]
     },
     "execution_count": 16,
     "metadata": {},
     "output_type": "execute_result"
    }
   ],
   "source": [
    "#For checking the connection\n",
    "conn"
   ]
  },
  {
   "cell_type": "code",
   "execution_count": 17,
   "id": "2f20b1ad",
   "metadata": {},
   "outputs": [],
   "source": [
    "#create a cursor obeject to execute SQL commands\n",
    "cursor = conn.cursor()"
   ]
  },
  {
   "cell_type": "code",
   "execution_count": 18,
   "id": "9f700f33",
   "metadata": {},
   "outputs": [
    {
     "data": {
      "text/plain": [
       "<sqlite3.Cursor at 0x14714c4b500>"
      ]
     },
     "execution_count": 18,
     "metadata": {},
     "output_type": "execute_result"
    }
   ],
   "source": [
    "#create a table for vector data\n",
    "cursor.execute(\n",
    "\"\"\"\n",
    "CREATE TABLE IF NOT EXISTS vectors (\n",
    "    id INTEGER PRIMARY KEY,\n",
    "    vector BLOB NOT NULL\n",
    ")\n",
    "\"\"\"\n",
    ")\n",
    "#BLOB is used because we are adding binary objects in the table vectors"
   ]
  },
  {
   "cell_type": "code",
   "execution_count": 20,
   "id": "76e044a7",
   "metadata": {},
   "outputs": [],
   "source": [
    "#Generating some sample vectors\n",
    "vect1 = np.array([1.2, 3.4, 2.1, 0.8])\n",
    "vect2 = np.array([2.7, 1.5, 3.9, 2.3])"
   ]
  },
  {
   "cell_type": "code",
   "execution_count": 21,
   "id": "84e3bfdf",
   "metadata": {},
   "outputs": [
    {
     "data": {
      "text/plain": [
       "b'333333\\xf3?333333\\x0b@\\xcd\\xcc\\xcc\\xcc\\xcc\\xcc\\x00@\\x9a\\x99\\x99\\x99\\x99\\x99\\xe9?'"
      ]
     },
     "execution_count": 21,
     "metadata": {},
     "output_type": "execute_result"
    }
   ],
   "source": [
    "#Converting the data into binary\n",
    "vect1.tobytes()"
   ]
  },
  {
   "cell_type": "code",
   "execution_count": 22,
   "id": "5e05f539",
   "metadata": {},
   "outputs": [
    {
     "data": {
      "text/plain": [
       "<sqlite3.Cursor at 0x14714c4b500>"
      ]
     },
     "execution_count": 22,
     "metadata": {},
     "output_type": "execute_result"
    }
   ],
   "source": [
    "#Insert vector data into the table\n",
    "cursor.execute(\n",
    "\"INSERT INTO vectors (vector) VALUES (?)\",\n",
    "    (sqlite3.Binary(vect1.tobytes()),)\n",
    ")"
   ]
  },
  {
   "cell_type": "code",
   "execution_count": 23,
   "id": "540fc2b6",
   "metadata": {},
   "outputs": [
    {
     "data": {
      "text/plain": [
       "<sqlite3.Cursor at 0x14714c4b500>"
      ]
     },
     "execution_count": 23,
     "metadata": {},
     "output_type": "execute_result"
    }
   ],
   "source": [
    "#Insert vector data into the table\n",
    "cursor.execute(\n",
    "\"INSERT INTO vectors (vector) VALUES (?)\",\n",
    "    (sqlite3.Binary(vect2.tobytes()),)\n",
    ")"
   ]
  },
  {
   "cell_type": "code",
   "execution_count": 24,
   "id": "62d9ab75",
   "metadata": {},
   "outputs": [
    {
     "data": {
      "text/plain": [
       "<sqlite3.Cursor at 0x14714c4b500>"
      ]
     },
     "execution_count": 24,
     "metadata": {},
     "output_type": "execute_result"
    }
   ],
   "source": [
    "#Retrieve data\n",
    "cursor.execute(\"SELECT vector FROM vectors\")"
   ]
  },
  {
   "cell_type": "code",
   "execution_count": 25,
   "id": "a7d1fdbc",
   "metadata": {},
   "outputs": [],
   "source": [
    "#Brings all the rows to memory\n",
    "rows = cursor.fetchall()"
   ]
  },
  {
   "cell_type": "code",
   "execution_count": 26,
   "id": "e303b692",
   "metadata": {},
   "outputs": [
    {
     "data": {
      "text/plain": [
       "[(b'333333\\xf3?333333\\x0b@\\xcd\\xcc\\xcc\\xcc\\xcc\\xcc\\x00@\\x9a\\x99\\x99\\x99\\x99\\x99\\xe9?',),\n",
       " (b'\\x9a\\x99\\x99\\x99\\x99\\x99\\x05@\\x00\\x00\\x00\\x00\\x00\\x00\\xf8?333333\\x0f@ffffff\\x02@',)]"
      ]
     },
     "execution_count": 26,
     "metadata": {},
     "output_type": "execute_result"
    }
   ],
   "source": [
    "#checking the rows\n",
    "rows"
   ]
  },
  {
   "cell_type": "code",
   "execution_count": 41,
   "id": "c4a68400",
   "metadata": {},
   "outputs": [],
   "source": [
    "#converting the binary data to the original vector data for one row\n",
    "vector = np.frombuffer(rows[0][0] , dtype=np.float64)"
   ]
  },
  {
   "cell_type": "code",
   "execution_count": 42,
   "id": "98c6a05d",
   "metadata": {},
   "outputs": [
    {
     "data": {
      "text/plain": [
       "array([1.2, 3.4, 2.1, 0.8])"
      ]
     },
     "execution_count": 42,
     "metadata": {},
     "output_type": "execute_result"
    }
   ],
   "source": [
    "#printing the vector\n",
    "vector"
   ]
  },
  {
   "cell_type": "code",
   "execution_count": 43,
   "id": "6955bb60",
   "metadata": {},
   "outputs": [],
   "source": [
    "#converting the binary to the original vector data for all rows\n",
    "vectors = []\n",
    "for row in rows:\n",
    "    vector = np.frombuffer(row[0] , dtype=np.float64)\n",
    "    vectors.append(vector)"
   ]
  },
  {
   "cell_type": "code",
   "execution_count": 44,
   "id": "7a64acb5",
   "metadata": {},
   "outputs": [
    {
     "data": {
      "text/plain": [
       "[array([1.2, 3.4, 2.1, 0.8]), array([2.7, 1.5, 3.9, 2.3])]"
      ]
     },
     "execution_count": 44,
     "metadata": {},
     "output_type": "execute_result"
    }
   ],
   "source": [
    "#printing the vectors\n",
    "vectors"
   ]
  },
  {
   "cell_type": "code",
   "execution_count": 12,
   "id": "ecd63ec8",
   "metadata": {},
   "outputs": [],
   "source": [
    "#For commiting/saving the changes to the DB\n",
    "conn.commit()"
   ]
  },
  {
   "cell_type": "code",
   "execution_count": 13,
   "id": "7a3c4c94",
   "metadata": {},
   "outputs": [],
   "source": [
    "#For closing the connection with the DB\n",
    "conn.close()"
   ]
  },
  {
   "cell_type": "markdown",
   "id": "72c36305",
   "metadata": {},
   "source": [
    "# Vector Similarity Search"
   ]
  },
  {
   "cell_type": "code",
   "execution_count": 70,
   "id": "4e63c747",
   "metadata": {},
   "outputs": [],
   "source": [
    "#Query vector\n",
    "query_vect = np.array([1.0, 3.2, 2.0, 0.5])"
   ]
  },
  {
   "cell_type": "code",
   "execution_count": 71,
   "id": "bddf15d9",
   "metadata": {},
   "outputs": [
    {
     "data": {
      "text/plain": [
       "<sqlite3.Cursor at 0x14714c4b500>"
      ]
     },
     "execution_count": 71,
     "metadata": {},
     "output_type": "execute_result"
    }
   ],
   "source": [
    "#Quering to find the closest vector to the query vector\n",
    "cursor.execute(\"\"\"\n",
    "SELECT vector FROM vectors ORDER BY abs(vector - ?) ASC\n",
    "\"\"\", (sqlite3.Binary(query_vect.tobytes()),)\n",
    ")"
   ]
  },
  {
   "cell_type": "code",
   "execution_count": 72,
   "id": "526e3973",
   "metadata": {},
   "outputs": [],
   "source": [
    "#finding the top one\n",
    "result = cursor.fetchone()"
   ]
  },
  {
   "cell_type": "code",
   "execution_count": 73,
   "id": "57a9b3f4",
   "metadata": {},
   "outputs": [
    {
     "data": {
      "text/plain": [
       "(b'\\x9a\\x99\\x99\\x99\\x99\\x99\\x05@\\x00\\x00\\x00\\x00\\x00\\x00\\xf8?333333\\x0f@ffffff\\x02@',)"
      ]
     },
     "execution_count": 73,
     "metadata": {},
     "output_type": "execute_result"
    }
   ],
   "source": [
    "#most similar vector (output is in binary)\n",
    "result"
   ]
  },
  {
   "cell_type": "code",
   "execution_count": 74,
   "id": "9903c178",
   "metadata": {},
   "outputs": [
    {
     "data": {
      "text/plain": [
       "array([2.7, 1.5, 3.9, 2.3])"
      ]
     },
     "execution_count": 74,
     "metadata": {},
     "output_type": "execute_result"
    }
   ],
   "source": [
    "#most similar vector\n",
    "np.frombuffer(result[0], dtype = np.float64)"
   ]
  }
 ],
 "metadata": {
  "kernelspec": {
   "display_name": "Python 3 (ipykernel)",
   "language": "python",
   "name": "python3"
  },
  "language_info": {
   "codemirror_mode": {
    "name": "ipython",
    "version": 3
   },
   "file_extension": ".py",
   "mimetype": "text/x-python",
   "name": "python",
   "nbconvert_exporter": "python",
   "pygments_lexer": "ipython3",
   "version": "3.9.7"
  }
 },
 "nbformat": 4,
 "nbformat_minor": 5
}
